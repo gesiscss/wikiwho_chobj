{
 "cells": [
  {
   "cell_type": "code",
   "execution_count": 17,
   "metadata": {},
   "outputs": [
    {
     "name": "stdout",
     "output_type": "stream",
     "text": [
      "True\n",
      "True\n"
     ]
    }
   ],
   "source": [
    "import pandas as pd\n",
    "df_api = pd.read_hdf(\"../data/change objects/Bioglass_change.h5\")\n",
    "df_pickle_api = pd.read_hdf(\"../data/change objects/2161298_change.h5\")\n",
    "df_aadil = pd.read_hdf(\"../data/change objects/Bioglass_change_aadil.h5\")\n",
    "print(df_aadil.equals(df_pickle_api))\n",
    "print(df_aadil.equals(df_api))"
   ]
  }
 ],
 "metadata": {
  "kernelspec": {
   "display_name": "Python 3",
   "language": "python",
   "name": "python3"
  },
  "language_info": {
   "codemirror_mode": {
    "name": "ipython",
    "version": 3
   },
   "file_extension": ".py",
   "mimetype": "text/x-python",
   "name": "python",
   "nbconvert_exporter": "python",
   "pygments_lexer": "ipython3",
   "version": "3.7.3"
  }
 },
 "nbformat": 4,
 "nbformat_minor": 2
}
